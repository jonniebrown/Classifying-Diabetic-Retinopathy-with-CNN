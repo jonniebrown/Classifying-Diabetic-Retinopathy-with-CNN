{
 "cells": [
  {
   "cell_type": "markdown",
   "metadata": {},
   "source": [
    "# Full Binary Model"
   ]
  },
  {
   "cell_type": "markdown",
   "metadata": {},
   "source": [
    "## Import the Data"
   ]
  },
  {
   "cell_type": "code",
   "execution_count": 1,
   "metadata": {},
   "outputs": [],
   "source": [
    "# import libraries\n",
    "import pandas as pd\n",
    "import numpy as np\n",
    "import seaborn as sns\n",
    "import matplotlib.pyplot as plt\n",
    "%matplotlib inline\n",
    "from sklearn.metrics import ConfusionMatrixDisplay, classification_report\n",
    "\n",
    "import tensorflow as tf\n",
    "from keras_preprocessing.image import ImageDataGenerator\n",
    "from tensorflow.keras import callbacks, initializers\n",
    "from keras.models import Sequential\n",
    "from keras.layers import Dense, Activation, Flatten, Dropout, BatchNormalization\n",
    "from keras.layers import Conv2D, MaxPooling2D\n",
    "from keras import regularizers, optimizers, metrics"
   ]
  },
  {
   "cell_type": "code",
   "execution_count": 2,
   "metadata": {},
   "outputs": [],
   "source": [
    "# upload csv files\n",
    "# setting the dtype=str is to prevent an error that occurs later on if I don't\n",
    "\n",
    "traindf=pd.read_csv(\"./diabetic-retinopathy-detection/Data/trainLabels.csv\",dtype=str)\n",
    "testdf=pd.read_csv(\"./diabetic-retinopathy-detection/Data/sampleSubmission.csv\",dtype=str)"
   ]
  },
  {
   "cell_type": "code",
   "execution_count": 3,
   "metadata": {},
   "outputs": [
    {
     "data": {
      "text/html": [
       "<div>\n",
       "<style scoped>\n",
       "    .dataframe tbody tr th:only-of-type {\n",
       "        vertical-align: middle;\n",
       "    }\n",
       "\n",
       "    .dataframe tbody tr th {\n",
       "        vertical-align: top;\n",
       "    }\n",
       "\n",
       "    .dataframe thead th {\n",
       "        text-align: right;\n",
       "    }\n",
       "</style>\n",
       "<table border=\"1\" class=\"dataframe\">\n",
       "  <thead>\n",
       "    <tr style=\"text-align: right;\">\n",
       "      <th></th>\n",
       "      <th>image</th>\n",
       "      <th>level</th>\n",
       "    </tr>\n",
       "  </thead>\n",
       "  <tbody>\n",
       "    <tr>\n",
       "      <th>0</th>\n",
       "      <td>10_left</td>\n",
       "      <td>0</td>\n",
       "    </tr>\n",
       "    <tr>\n",
       "      <th>1</th>\n",
       "      <td>10_right</td>\n",
       "      <td>0</td>\n",
       "    </tr>\n",
       "    <tr>\n",
       "      <th>2</th>\n",
       "      <td>13_left</td>\n",
       "      <td>0</td>\n",
       "    </tr>\n",
       "    <tr>\n",
       "      <th>3</th>\n",
       "      <td>13_right</td>\n",
       "      <td>0</td>\n",
       "    </tr>\n",
       "    <tr>\n",
       "      <th>4</th>\n",
       "      <td>15_left</td>\n",
       "      <td>1</td>\n",
       "    </tr>\n",
       "  </tbody>\n",
       "</table>\n",
       "</div>"
      ],
      "text/plain": [
       "      image level\n",
       "0   10_left     0\n",
       "1  10_right     0\n",
       "2   13_left     0\n",
       "3  13_right     0\n",
       "4   15_left     1"
      ]
     },
     "execution_count": 3,
     "metadata": {},
     "output_type": "execute_result"
    }
   ],
   "source": [
    "traindf.head()"
   ]
  },
  {
   "cell_type": "markdown",
   "metadata": {},
   "source": [
    "## Clean the Data"
   ]
  },
  {
   "cell_type": "code",
   "execution_count": 4,
   "metadata": {},
   "outputs": [],
   "source": [
    "# creating a function that adds \".jpeg\" to the image names\n",
    "def append_ext(fn):\n",
    "    return fn+\".jpeg\"\n",
    "\n",
    "traindf[\"image\"]=traindf[\"image\"].apply(append_ext)\n",
    "testdf[\"image\"]=testdf[\"image\"].apply(append_ext)"
   ]
  },
  {
   "cell_type": "code",
   "execution_count": 5,
   "metadata": {},
   "outputs": [
    {
     "data": {
      "text/html": [
       "<div>\n",
       "<style scoped>\n",
       "    .dataframe tbody tr th:only-of-type {\n",
       "        vertical-align: middle;\n",
       "    }\n",
       "\n",
       "    .dataframe tbody tr th {\n",
       "        vertical-align: top;\n",
       "    }\n",
       "\n",
       "    .dataframe thead th {\n",
       "        text-align: right;\n",
       "    }\n",
       "</style>\n",
       "<table border=\"1\" class=\"dataframe\">\n",
       "  <thead>\n",
       "    <tr style=\"text-align: right;\">\n",
       "      <th></th>\n",
       "      <th>image</th>\n",
       "      <th>level</th>\n",
       "    </tr>\n",
       "  </thead>\n",
       "  <tbody>\n",
       "    <tr>\n",
       "      <th>0</th>\n",
       "      <td>10_left.jpeg</td>\n",
       "      <td>0</td>\n",
       "    </tr>\n",
       "    <tr>\n",
       "      <th>1</th>\n",
       "      <td>10_right.jpeg</td>\n",
       "      <td>0</td>\n",
       "    </tr>\n",
       "    <tr>\n",
       "      <th>2</th>\n",
       "      <td>13_left.jpeg</td>\n",
       "      <td>0</td>\n",
       "    </tr>\n",
       "    <tr>\n",
       "      <th>3</th>\n",
       "      <td>13_right.jpeg</td>\n",
       "      <td>0</td>\n",
       "    </tr>\n",
       "    <tr>\n",
       "      <th>4</th>\n",
       "      <td>15_left.jpeg</td>\n",
       "      <td>1</td>\n",
       "    </tr>\n",
       "  </tbody>\n",
       "</table>\n",
       "</div>"
      ],
      "text/plain": [
       "           image level\n",
       "0   10_left.jpeg     0\n",
       "1  10_right.jpeg     0\n",
       "2   13_left.jpeg     0\n",
       "3  13_right.jpeg     0\n",
       "4   15_left.jpeg     1"
      ]
     },
     "execution_count": 5,
     "metadata": {},
     "output_type": "execute_result"
    }
   ],
   "source": [
    "# checking work\n",
    "traindf.head()"
   ]
  },
  {
   "cell_type": "markdown",
   "metadata": {},
   "source": [
    "### Change Target to Binary"
   ]
  },
  {
   "cell_type": "code",
   "execution_count": 6,
   "metadata": {},
   "outputs": [
    {
     "data": {
      "text/plain": [
       "0    0.734783\n",
       "1    0.265217\n",
       "Name: level, dtype: float64"
      ]
     },
     "execution_count": 6,
     "metadata": {},
     "output_type": "execute_result"
    }
   ],
   "source": [
    "traindf.level.replace({\"2\":\"1\", \"3\":\"1\", \"4\":\"1\"}, inplace=True)\n",
    "traindf.level.value_counts(normalize=True)"
   ]
  },
  {
   "cell_type": "markdown",
   "metadata": {},
   "source": [
    "### Load Images"
   ]
  },
  {
   "cell_type": "code",
   "execution_count": 7,
   "metadata": {},
   "outputs": [],
   "source": [
    "# define variables\n",
    "size = (32,32)\n",
    "shape = size + (3,)\n",
    "batches = 32\n",
    "activation = \"relu\"\n",
    "optimizer = \"adam\""
   ]
  },
  {
   "cell_type": "code",
   "execution_count": 8,
   "metadata": {},
   "outputs": [],
   "source": [
    "datagen=ImageDataGenerator(rescale=1./255.,\n",
    "                           rotation_range=90,\n",
    "                           zoom_range=0.1,\n",
    "                           width_shift_range=0.1,\n",
    "                           height_shift_range=0.1,\n",
    "                           shear_range=0.1,\n",
    "                           horizontal_flip=True,\n",
    "                           vertical_flip=True,\n",
    "                           brightness_range=[0.75,1.25],\n",
    "                           validation_split=0.2)"
   ]
  },
  {
   "cell_type": "code",
   "execution_count": 9,
   "metadata": {},
   "outputs": [
    {
     "name": "stdout",
     "output_type": "stream",
     "text": [
      "Found 28101 validated image filenames belonging to 2 classes.\n",
      "Found 7025 validated image filenames belonging to 2 classes.\n",
      "Found 53576 validated image filenames.\n"
     ]
    }
   ],
   "source": [
    "# training generator (subset=training)\n",
    "train_generator=datagen.flow_from_dataframe(\n",
    "dataframe=traindf,\n",
    "directory=\"./diabetic-retinopathy-detection/Data/train/\",\n",
    "x_col=\"image\",\n",
    "y_col=\"level\",\n",
    "subset=\"training\",\n",
    "batch_size=batches,\n",
    "seed=42,\n",
    "shuffle=True,\n",
    "class_mode=\"binary\",\n",
    "target_size=size)\n",
    "\n",
    "\n",
    "# validation generator (subset=validation)\n",
    "valid_generator=datagen.flow_from_dataframe(\n",
    "dataframe=traindf,\n",
    "directory=\"./diabetic-retinopathy-detection/Data/train/\",\n",
    "x_col=\"image\",\n",
    "y_col=\"level\",\n",
    "subset=\"validation\",\n",
    "batch_size=batches,\n",
    "seed=42,\n",
    "shuffle=True,\n",
    "class_mode=\"binary\",\n",
    "target_size=size)\n",
    "\n",
    "# test generator\n",
    "test_datagen=ImageDataGenerator(rescale=1./255.)\n",
    "test_generator=test_datagen.flow_from_dataframe(\n",
    "dataframe=testdf,\n",
    "directory=\"./diabetic-retinopathy-detection/Data/test/\",\n",
    "x_col=\"image\",\n",
    "y_col=None,\n",
    "batch_size=32,\n",
    "seed=42,\n",
    "shuffle=False,\n",
    "class_mode=None,\n",
    "target_size=size)"
   ]
  },
  {
   "cell_type": "markdown",
   "metadata": {},
   "source": [
    "## Build Model"
   ]
  },
  {
   "cell_type": "code",
   "execution_count": 10,
   "metadata": {},
   "outputs": [],
   "source": [
    "model = Sequential()\n",
    "\n",
    "model.add(Conv2D(32, (3, 3), activation=activation, padding = 'same', input_shape=shape))\n",
    "model.add(Conv2D(32, (3, 3), activation=activation, padding = 'same'))\n",
    "model.add(MaxPooling2D((2, 2)))\n",
    "\n",
    "model.add(Conv2D(64, (3, 3), activation=activation))\n",
    "model.add(Conv2D(64, (3, 3), activation=activation))\n",
    "model.add(MaxPooling2D((2, 2)))\n",
    "\n",
    "model.add(Conv2D(64, (3, 3), activation=activation))\n",
    "model.add(Conv2D(64, (3, 3), activation=activation))\n",
    "model.add(MaxPooling2D((2, 2)))\n",
    "\n",
    "model.add(Flatten())\n",
    "model.add(Dense(64, activation = activation, kernel_initializer=initializers.HeNormal()))\n",
    "model.add(Dense(1, activation='sigmoid'))"
   ]
  },
  {
   "cell_type": "code",
   "execution_count": 11,
   "metadata": {},
   "outputs": [
    {
     "name": "stdout",
     "output_type": "stream",
     "text": [
      "Model: \"sequential\"\n",
      "_________________________________________________________________\n",
      " Layer (type)                Output Shape              Param #   \n",
      "=================================================================\n",
      " conv2d (Conv2D)             (None, 32, 32, 32)        896       \n",
      "                                                                 \n",
      " conv2d_1 (Conv2D)           (None, 32, 32, 32)        9248      \n",
      "                                                                 \n",
      " max_pooling2d (MaxPooling2D  (None, 16, 16, 32)       0         \n",
      " )                                                               \n",
      "                                                                 \n",
      " conv2d_2 (Conv2D)           (None, 14, 14, 64)        18496     \n",
      "                                                                 \n",
      " conv2d_3 (Conv2D)           (None, 12, 12, 64)        36928     \n",
      "                                                                 \n",
      " max_pooling2d_1 (MaxPooling  (None, 6, 6, 64)         0         \n",
      " 2D)                                                             \n",
      "                                                                 \n",
      " conv2d_4 (Conv2D)           (None, 4, 4, 64)          36928     \n",
      "                                                                 \n",
      " conv2d_5 (Conv2D)           (None, 2, 2, 64)          36928     \n",
      "                                                                 \n",
      " max_pooling2d_2 (MaxPooling  (None, 1, 1, 64)         0         \n",
      " 2D)                                                             \n",
      "                                                                 \n",
      " flatten (Flatten)           (None, 64)                0         \n",
      "                                                                 \n",
      " dense (Dense)               (None, 64)                4160      \n",
      "                                                                 \n",
      " dense_1 (Dense)             (None, 1)                 65        \n",
      "                                                                 \n",
      "=================================================================\n",
      "Total params: 143,649\n",
      "Trainable params: 143,649\n",
      "Non-trainable params: 0\n",
      "_________________________________________________________________\n"
     ]
    }
   ],
   "source": [
    "model.summary()"
   ]
  },
  {
   "cell_type": "code",
   "execution_count": 12,
   "metadata": {},
   "outputs": [],
   "source": [
    "model.compile(optimizer=optimizer,\n",
    "              loss='binary_crossentropy',\n",
    "              metrics=['accuracy'])"
   ]
  },
  {
   "cell_type": "code",
   "execution_count": 13,
   "metadata": {},
   "outputs": [],
   "source": [
    "early_stop = callbacks.EarlyStopping(monitor='val_loss',\n",
    "                                     min_delta=1e-4,\n",
    "                                     verbose=1,\n",
    "                                     mode='min',\n",
    "                                     patience=5)"
   ]
  },
  {
   "cell_type": "code",
   "execution_count": 14,
   "metadata": {},
   "outputs": [
    {
     "name": "stdout",
     "output_type": "stream",
     "text": [
      "Epoch 1/25\n",
      "878/878 [==============================] - 2452s 3s/step - loss: 0.5797 - accuracy: 0.7359 - val_loss: 0.5817 - val_accuracy: 0.7305\n",
      "Epoch 2/25\n",
      "878/878 [==============================] - 3376s 4s/step - loss: 0.5777 - accuracy: 0.7358 - val_loss: 0.5817 - val_accuracy: 0.7305\n",
      "Epoch 3/25\n",
      "878/878 [==============================] - 2535s 3s/step - loss: 0.5772 - accuracy: 0.7360 - val_loss: 0.5812 - val_accuracy: 0.7305\n",
      "Epoch 4/25\n",
      "878/878 [==============================] - 2540s 3s/step - loss: 0.5762 - accuracy: 0.7358 - val_loss: 0.5826 - val_accuracy: 0.7307\n",
      "Epoch 5/25\n",
      "878/878 [==============================] - 2500s 3s/step - loss: 0.5766 - accuracy: 0.7357 - val_loss: 0.5794 - val_accuracy: 0.7305\n",
      "Epoch 6/25\n",
      "878/878 [==============================] - 2435s 3s/step - loss: 0.5768 - accuracy: 0.7359 - val_loss: 0.5828 - val_accuracy: 0.7305\n",
      "Epoch 7/25\n",
      "878/878 [==============================] - 2584s 3s/step - loss: 0.5773 - accuracy: 0.7359 - val_loss: 0.5840 - val_accuracy: 0.7300\n",
      "Epoch 8/25\n",
      "878/878 [==============================] - 2690s 3s/step - loss: 0.5778 - accuracy: 0.7358 - val_loss: 0.5820 - val_accuracy: 0.7307\n",
      "Epoch 9/25\n",
      "878/878 [==============================] - 2493s 3s/step - loss: 0.5777 - accuracy: 0.7358 - val_loss: 0.5835 - val_accuracy: 0.7309\n",
      "Epoch 10/25\n",
      "878/878 [==============================] - 2413s 3s/step - loss: 0.5775 - accuracy: 0.7358 - val_loss: 0.5819 - val_accuracy: 0.7306\n",
      "Epoch 10: early stopping\n"
     ]
    }
   ],
   "source": [
    "results = model.fit(train_generator,\n",
    "                    validation_data = valid_generator,\n",
    "                    steps_per_epoch = train_generator.n//train_generator.batch_size,\n",
    "                    validation_steps = valid_generator.n//valid_generator.batch_size,\n",
    "                    epochs=25,\n",
    "                    callbacks=early_stop)"
   ]
  },
  {
   "cell_type": "markdown",
   "metadata": {},
   "source": [
    "## Results"
   ]
  },
  {
   "cell_type": "code",
   "execution_count": 15,
   "metadata": {},
   "outputs": [
    {
     "data": {
      "image/png": "[encoded data removed]",
      "text/plain": [
       "<Figure size 720x360 with 2 Axes>"
      ]
     },
     "metadata": {
      "needs_background": "light"
     },
     "output_type": "display_data"
    }
   ],
   "source": [
    "# create lists to plot\n",
    "train_loss = results.history['loss']\n",
    "train_acc = results.history['accuracy']\n",
    "val_loss = results.history['val_loss']\n",
    "val_acc = results.history['val_accuracy']\n",
    "\n",
    "# the plot\n",
    "fig, (ax1, ax2) = plt.subplots(1, 2, figsize=(10, 5))\n",
    "sns.lineplot(x=results.epoch, y=train_loss, ax=ax1, label='train_loss')\n",
    "sns.lineplot(x=results.epoch, y=train_acc, ax=ax2, label='train_accuracy')\n",
    "\n",
    "sns.lineplot(x=results.epoch, y=val_loss, ax=ax1, label='val_loss')\n",
    "sns.lineplot(x=results.epoch, y=val_acc, ax=ax2, label='val_accuracy');"
   ]
  },
  {
   "cell_type": "code",
   "execution_count": 16,
   "metadata": {
    "scrolled": true
   },
   "outputs": [
    {
     "name": "stdout",
     "output_type": "stream",
     "text": [
      "220/220 [==============================] - 481s 2s/step - loss: 0.5818 - accuracy: 0.7305\n",
      "Test loss: 0.581807017326355\n",
      "Test accuracy: 0.73053377866745\n"
     ]
    }
   ],
   "source": [
    "score = model.evaluate(valid_generator)\n",
    "print('Test loss:', score[0])\n",
    "print('Test accuracy:', score[1])"
   ]
  },
  {
   "cell_type": "code",
   "execution_count": 17,
   "metadata": {},
   "outputs": [
    {
     "name": "stdout",
     "output_type": "stream",
     "text": [
      "219/219 [==============================] - 479s 2s/step\n"
     ]
    }
   ],
   "source": [
    "# This gives probabilities which is needed to get the y predictions\n",
    "pred = model.predict(valid_generator, steps = valid_generator.n//valid_generator.batch_size)\n",
    "\n",
    "# The y predictions which is needed for the confusion matrix\n",
    "y_pred = pred.argmax(axis=-1)"
   ]
  },
  {
   "cell_type": "code",
   "execution_count": 18,
   "metadata": {},
   "outputs": [
    {
     "data": {
      "text/plain": [
       "<sklearn.metrics._plot.confusion_matrix.ConfusionMatrixDisplay at 0x7fa491afae20>"
      ]
     },
     "execution_count": 18,
     "metadata": {},
     "output_type": "execute_result"
    },
    {
     "data": {
      "image/png": "[encoded data removed]",
      "text/plain": [
       "<Figure size 432x288 with 2 Axes>"
      ]
     },
     "metadata": {
      "needs_background": "light"
     },
     "output_type": "display_data"
    }
   ],
   "source": [
    "ConfusionMatrixDisplay.from_predictions(valid_generator.classes[:len(y_pred)], y_pred)"
   ]
  },
  {
   "cell_type": "markdown",
   "metadata": {},
   "source": [
    "## Save Model"
   ]
  },
  {
   "cell_type": "code",
   "execution_count": 20,
   "metadata": {},
   "outputs": [],
   "source": [
    "# save model\n",
    "tf.keras.models.save_model(model, \"full_binary_model.hdf5\")"
   ]
  },
  {
   "cell_type": "code",
   "execution_count": null,
   "metadata": {},
   "outputs": [],
   "source": []
  }
 ],
 "metadata": {
  "kernelspec": {
   "display_name": "Python 3",
   "language": "python",
   "name": "python3"
  },
  "language_info": {
   "codemirror_mode": {
    "name": "ipython",
    "version": 3
   },
   "file_extension": ".py",
   "mimetype": "text/x-python",
   "name": "python",
   "nbconvert_exporter": "python",
   "pygments_lexer": "ipython3",
   "version": "3.8.5"
  }
 },
 "nbformat": 4,
 "nbformat_minor": 4
}
